{
 "cells": [
  {
   "cell_type": "markdown",
   "metadata": {
    "deletable": false,
    "editable": false,
    "nbgrader": {
     "grade": false,
     "grade_id": "cell-e9618f92d187d071",
     "locked": true,
     "schema_version": 3,
     "solution": false,
     "task": false
    }
   },
   "source": [
    "# SLU10 - Linear Algebra & NumPy, Part 2: Exercise notebook"
   ]
  },
  {
   "cell_type": "markdown",
   "metadata": {
    "deletable": false,
    "editable": false,
    "nbgrader": {
     "grade": false,
     "grade_id": "cell-61571ad932502850",
     "locked": true,
     "schema_version": 3,
     "solution": false,
     "task": false
    }
   },
   "source": [
    "In this notebook the following is tested:\n",
    "\n",
    "- Matrix multiplication;\n",
    "- The inverse;\n",
    "- Additional NumPy methods."
   ]
  },
  {
   "cell_type": "code",
   "execution_count": 1,
   "metadata": {
    "deletable": false,
    "editable": false,
    "nbgrader": {
     "grade": false,
     "grade_id": "cell-483102a02d381dd4",
     "locked": true,
     "schema_version": 3,
     "solution": false,
     "task": false
    }
   },
   "outputs": [],
   "source": [
    "# run this cell before anything else\n",
    "\n",
    "# numpy package - your new friend!\n",
    "import numpy as np\n",
    "\n",
    "# auxiliary stuff\n",
    "import os\n",
    "from utils import *\n",
    "\n",
    "# for evaluation purposes\n",
    "import inspect\n",
    "import hashlib\n",
    "import numbers\n",
    "from math import isclose\n",
    "def _hash(s):\n",
    "    return hashlib.blake2b(\n",
    "        bytes(str(s), encoding='utf8'),\n",
    "        digest_size=5\n",
    "    ).hexdigest()"
   ]
  },
  {
   "cell_type": "markdown",
   "metadata": {
    "deletable": false,
    "editable": false,
    "nbgrader": {
     "grade": false,
     "grade_id": "cell-1db03a5ab4527507",
     "locked": true,
     "schema_version": 3,
     "solution": false,
     "task": false
    }
   },
   "source": [
    "## 1 - Matrix multiplication"
   ]
  },
  {
   "cell_type": "markdown",
   "metadata": {
    "deletable": false,
    "editable": false,
    "nbgrader": {
     "grade": false,
     "grade_id": "cell-f1e481e7117f1f35",
     "locked": true,
     "schema_version": 3,
     "solution": false,
     "task": false
    }
   },
   "source": [
    "### Exercise 1.1\n",
    "\n",
    "What is the value of the element in the entry $c_{3,4}$ (row 3, column 4)?\n",
    "\n",
    "$$\\mathbf{C} = \\begin{bmatrix}\n",
    "    4 & 3 & 1\\\\\n",
    "    -5 & 1 & -5\\\\\n",
    "    0 & 1 & -1\\\\\n",
    "    2 & 0 & 0\n",
    "\\end{bmatrix}\n",
    "\\begin{bmatrix}\n",
    "    4 & 3 & 1 & 2\\\\\n",
    "    -5 & -5 & -5 & -1\\\\\n",
    "    0 & 0 & 0 & 2\\\\\n",
    "\\end{bmatrix}\n",
    "$$\n",
    "\n",
    "Notice that **you don't need to calculate all the elements** of the resulting matrix, **only the entry $c_{3,4}$**!!\n",
    "\n",
    "Don't use auxiliary code to solve this. Remember what you learned about matrix multiplication in the learning notebook."
   ]
  },
  {
   "cell_type": "code",
   "execution_count": 6,
   "metadata": {
    "deletable": false,
    "nbgrader": {
     "grade": false,
     "grade_id": "cell-4d00af57c3b45c43",
     "locked": false,
     "schema_version": 3,
     "solution": true,
     "task": false
    }
   },
   "outputs": [
    {
     "ename": "NotImplementedError",
     "evalue": "",
     "output_type": "error",
     "traceback": [
      "\u001b[1;31m---------------------------------------------------------------------------\u001b[0m",
      "\u001b[1;31mNotImplementedError\u001b[0m                       Traceback (most recent call last)",
      "Cell \u001b[1;32mIn[6], line 7\u001b[0m\n\u001b[0;32m      5\u001b[0m c_34 \u001b[38;5;241m=\u001b[39m \u001b[38;5;241m-\u001b[39m\u001b[38;5;241m3\u001b[39m\n\u001b[0;32m      6\u001b[0m \u001b[38;5;66;03m#end code\u001b[39;00m\n\u001b[1;32m----> 7\u001b[0m \u001b[38;5;28;01mraise\u001b[39;00m \u001b[38;5;167;01mNotImplementedError\u001b[39;00m()\n",
      "\u001b[1;31mNotImplementedError\u001b[0m: "
     ]
    }
   ],
   "source": [
    "# Assign the value directly to c_34\n",
    "#c_34 = -3\n",
    "\n",
    "# YOUR CODE HERE\n",
    "c_34 = -3\n",
    "#end code\n",
    "raise NotImplementedError()"
   ]
  },
  {
   "cell_type": "code",
   "execution_count": null,
   "metadata": {
    "deletable": false,
    "editable": false,
    "nbgrader": {
     "grade": true,
     "grade_id": "cell-0da2a9cc467a82cc",
     "locked": true,
     "points": 0,
     "schema_version": 3,
     "solution": false,
     "task": false
    }
   },
   "outputs": [],
   "source": [
    "assert isinstance(c_34, numbers.Number), \"c_34 should be a number!\"\n",
    "assert _hash(int(c_34)) == '57c24e4418', \"That's not correct! :(\""
   ]
  },
  {
   "cell_type": "markdown",
   "metadata": {
    "deletable": false,
    "editable": false,
    "nbgrader": {
     "grade": false,
     "grade_id": "cell-77a3a84cd4590ef9",
     "locked": true,
     "schema_version": 3,
     "solution": false,
     "task": false
    }
   },
   "source": [
    "### Exercise 1.2\n",
    "\n",
    "Write the second column vector of matrix $\\mathbf{D}$ as a **2D numpy array of shape `(3, 1)`**:\n",
    "\n",
    "$$\\mathbf{D} = \\begin{bmatrix}\n",
    "    1 & 3 & 1\\\\\n",
    "    1 & 1 & 0\\\\\n",
    "    0 & 1 & -1\\\\\n",
    "\\end{bmatrix}\n",
    "\\begin{bmatrix}\n",
    "    -2 & 1 & 0\\\\\n",
    "    1 & 0 & -2\\\\\n",
    "    0 & 1 & 1\\\\\n",
    "\\end{bmatrix}\n",
    "$$\n",
    "\n",
    "Notice that **you don't need to calculate all the columns** of the resulting matrix, only the second one!!\n",
    "\n",
    "Don't use auxiliary code. Try to solve this by hand using what you learned about matrix multiplication."
   ]
  },
  {
   "cell_type": "code",
   "execution_count": null,
   "metadata": {
    "deletable": false,
    "nbgrader": {
     "grade": false,
     "grade_id": "cell-f089360ee63f8d14",
     "locked": false,
     "schema_version": 3,
     "solution": true,
     "task": false
    }
   },
   "outputs": [],
   "source": [
    "# Write the second column of D as a 2D ndarray with shape (3, 1)\n",
    "#column_2 = ...\n",
    "\n",
    "# YOUR CODE HERE\n",
    "raise NotImplementedError()"
   ]
  },
  {
   "cell_type": "code",
   "execution_count": null,
   "metadata": {
    "deletable": false,
    "editable": false,
    "nbgrader": {
     "grade": true,
     "grade_id": "cell-84ee2ec237b2a4c1",
     "locked": true,
     "points": 0,
     "schema_version": 3,
     "solution": false,
     "task": false
    }
   },
   "outputs": [],
   "source": [
    "assert isinstance(column_2, np.ndarray), \"Read the instructions carefully! column_2 should be a numpy array!\"\n",
    "assert _hash(column_2.ndim) == 'cf2d85ea1d', \"column_2 should be a 2D numpy array!\"\n",
    "assert _hash(column_2.shape) == '13deaba4a9', \"The shape is wrong. column_2 should by a 2D array of shape (3, 1)!\"\n",
    "column_2 = column_2.astype(int)\n",
    "assert _hash(column_2[0]) == '9d89fe38ba' and _hash(column_2[1]) == 'b9e762f987' \\\n",
    "    and _hash(column_2[2]) == '8064be0e5f', \"Something's wrong. Check your calculations again!\""
   ]
  },
  {
   "cell_type": "markdown",
   "metadata": {
    "deletable": false,
    "editable": false,
    "nbgrader": {
     "grade": false,
     "grade_id": "cell-b599c2db78b9a7a2",
     "locked": true,
     "schema_version": 3,
     "solution": false,
     "task": false
    }
   },
   "source": [
    "### Exercise 1.3\n",
    "\n",
    "Create a function to compute the product between two matrices (2D Numpy arrays) **without using** `numpy.matmul()` **nor** `numpy.dot()`!\n",
    "\n",
    "The function should:\n",
    "- be called `multiply_matrices`;\n",
    "- take two 2D ndarrays (matrices) as arguments (you may assume the matrices will always be of compatible sizes);\n",
    "- iterate through the arrays to perform matrix multiplication;\n",
    "- return the result of the multiplication as a 2D ndarray.\n",
    "\n",
    "**Tips**:\n",
    "- you **can** use other NumPy methods such as `numpy.sum()`, just don't use `numpy.matmul()` nor `numpy.dot()`;\n",
    "- you can always use prints inside a function to check what it's doing while working on a solution."
   ]
  },
  {
   "cell_type": "code",
   "execution_count": null,
   "metadata": {
    "deletable": false,
    "nbgrader": {
     "grade": false,
     "grade_id": "cell-dba1c3448d02f3d4",
     "locked": false,
     "schema_version": 3,
     "solution": true,
     "task": false
    }
   },
   "outputs": [],
   "source": [
    "# create function called multiply_matrices\n",
    "\n",
    "#def multiply_matrices(matrix_1, matrix_2):\n",
    "# ...\n",
    "# ...\n",
    "\n",
    "# YOUR CODE HERE\n",
    "raise NotImplementedError()"
   ]
  },
  {
   "cell_type": "code",
   "execution_count": null,
   "metadata": {
    "deletable": false,
    "editable": false,
    "nbgrader": {
     "grade": true,
     "grade_id": "cell-4887ed8b8490950d",
     "locked": true,
     "points": 0,
     "schema_version": 3,
     "solution": false,
     "task": false
    }
   },
   "outputs": [],
   "source": [
    "# don't cheat...\n",
    "source = inspect.getsource(multiply_matrices)\n",
    "assert \".dot(\" not in source, \"Do not use numpy.dot()!!\"\n",
    "assert \".matmul(\" not in source, \"Do not use numpy.matmul()!!\"\n",
    "\n",
    "# test matrices\n",
    "mat_1 = np.array([[44, 68], [-37, 14], [85, -48], [92, -46], [-42, 63], [-42, 63], [-35, 75]])\n",
    "mat_2 = np.array([[22, -40, 95, 62], [10, -42, 98, 19]])\n",
    "mat_3 = np.array([[1, 2]])\n",
    "mat_4 = np.array([[-3], [4]])\n",
    "\n",
    "# asserts\n",
    "assert isinstance(multiply_matrices(mat_1, mat_2), np.ndarray) and isinstance(multiply_matrices(mat_3, mat_4), np.ndarray), \\\n",
    "    \"Your function should always return a 2D numpy array!\"\n",
    "m1 = multiply_matrices(mat_1, mat_2)\n",
    "m2 = multiply_matrices(mat_3, mat_4) \n",
    "assert isinstance(m1, np.ndarray) and isinstance(m2, np.ndarray), \\\n",
    "    \"The function should always return a 2D ndarray, even if the result is a vector with 1 element in it!\"\n",
    "assert m1.ndim == 2 and m2.ndim == 2, \"The function should return a 2D ndrray!!\"\n",
    "assert m1.shape == (7, 4) and m2.shape == (1, 1), \"The size of the output matrix is wrong!\"\n",
    "assert _hash(int(m1[4, 2])) == '4cc99e0948' and _hash(int(m2[0, 0])) == 'a72043e53f', \\\n",
    "    \"Something is not right... is the function behaving as you expect?\\n\"\\\n",
    "    \"If you get stuck recheck the multiplication rules on the Learning Notebok.\""
   ]
  },
  {
   "cell_type": "markdown",
   "metadata": {
    "deletable": false,
    "editable": false,
    "nbgrader": {
     "grade": false,
     "grade_id": "cell-c531f1e7cc75752e",
     "locked": true,
     "schema_version": 3,
     "solution": false,
     "task": false
    }
   },
   "source": [
    "### Exercise 1.4\n",
    "\n",
    "Remember the panda image from SLU09, where we represented a greyscale image by a 2D ndarray, where each entry was an integer in the value range from `0` to `255`?\n",
    "\n",
    "Let's play with the panda again!"
   ]
  },
  {
   "cell_type": "code",
   "execution_count": 7,
   "metadata": {
    "deletable": false,
    "editable": false,
    "nbgrader": {
     "grade": false,
     "grade_id": "cell-2a151430c72dc66f",
     "locked": true,
     "schema_version": 3,
     "solution": false,
     "task": false
    }
   },
   "outputs": [
    {
     "name": "stdout",
     "output_type": "stream",
     "text": [
      "panda.shape: (460, 460)\n",
      "panda.ndim: 2\n"
     ]
    },
    {
     "data": {
      "image/png": "[encoded data removed]",
      "text/plain": [
       "<Figure size 640x480 with 1 Axes>"
      ]
     },
     "metadata": {},
     "output_type": "display_data"
    }
   ],
   "source": [
    "# load panda image and print shape and ndim\n",
    "panda = load_panda()\n",
    "print(\"panda.shape:\", panda.shape)\n",
    "print(\"panda.ndim:\", panda.ndim)\n",
    "\n",
    "# plot the panda!\n",
    "plot_img(panda)"
   ]
  },
  {
   "cell_type": "markdown",
   "metadata": {
    "deletable": false,
    "editable": false,
    "nbgrader": {
     "grade": false,
     "grade_id": "cell-d042d95caadb5243",
     "locked": true,
     "schema_version": 3,
     "solution": false,
     "task": false
    }
   },
   "source": [
    "#### 1.4.1) Panda panda on the wall, you're the cutest of them all!\n",
    "\n",
    "Multiply `panda` by a matrix `flip` of the same size, of the form:\n",
    "\n",
    "$$\\begin{bmatrix}\n",
    "    0 & \\dots & 0 & 1\\\\\n",
    "    0 & \\dots & 1 & 0\\\\\n",
    "    \\vdots & \\cdots & 0 & 0\\\\\n",
    "    1 & \\dots & 0 & 0\\\\\n",
    "\\end{bmatrix}\n",
    "$$\n",
    "\n",
    "which you can think of as a \"mirror\" of the identity matrix.\n",
    "\n",
    "To perform the multiplication, you can either use the function you defined above or use an appropriate NumPy function."
   ]
  },
  {
   "cell_type": "code",
   "execution_count": null,
   "metadata": {
    "deletable": false,
    "nbgrader": {
     "grade": false,
     "grade_id": "cell-edc0084ca8ba2211",
     "locked": false,
     "schema_version": 3,
     "solution": true,
     "task": false
    }
   },
   "outputs": [],
   "source": [
    "## create the flip matrix\n",
    "## first create the identity of the same size as panda\n",
    "#flip = ...\n",
    "\n",
    "## then reverse the order of each row (think lists!!) - if you get stuck try to find the \"trick\" online\n",
    "#flip = \n",
    "\n",
    "## multiply panda by flip\n",
    "#panda_mirror = ...\n",
    "\n",
    "# YOUR CODE HERE\n",
    "raise NotImplementedError()"
   ]
  },
  {
   "cell_type": "code",
   "execution_count": null,
   "metadata": {
    "deletable": false,
    "editable": false,
    "nbgrader": {
     "grade": true,
     "grade_id": "cell-65397abfd2557135",
     "locked": true,
     "points": 0,
     "schema_version": 3,
     "solution": false,
     "task": false
    }
   },
   "outputs": [],
   "source": [
    "assert isinstance(panda, np.ndarray) and panda.shape == (460, 460) and panda.min() == 0 \\\n",
    "    and panda.max() == 255 and  _hash(panda[0, 10]) == '751b860653', \\\n",
    "    \"OMG did you change the panda variable? Don't mess with the panda! Reload it with the code: panda = load_panda()\"\n",
    "assert panda_mirror.shape == panda.shape,  \"The output matrix should be the same size as panda!\"\n",
    "assert panda_mirror.ndim == panda.ndim,  \"The output array should be 2D, just like the panda one!\"\n",
    "assert _hash(panda_mirror[40, 50].astype(int)) != '5b4838043f' and (not isclose(panda_mirror.sum(), 49631)), \\\n",
    "    \"Oops! Did you just multiply the matrices element-wise?\"\n",
    "assert flip[0, 0] != 1 and flip[60, 60] != 1, \"You need to reverse the order of each row of the identity matrix!\"\n",
    "assert _hash(panda_mirror[40, 50].astype(int)) == '72a2dcfa6f' and _hash(panda_mirror[100, 120].astype(int)) == '2a6c4e0309', \\\n",
    "    \"Wrong!\"\n",
    "plot_pandas(panda_mirror)"
   ]
  },
  {
   "cell_type": "code",
   "execution_count": null,
   "metadata": {
    "deletable": false,
    "editable": false,
    "nbgrader": {
     "grade": false,
     "grade_id": "cell-a1c949dfbbf09499",
     "locked": true,
     "schema_version": 3,
     "solution": false,
     "task": false
    }
   },
   "outputs": [],
   "source": [
    "# remember that if we multiply a matrix by the identity we get the same matrix?\n",
    "panda = load_panda()\n",
    "panda_id = np.matmul(panda, np.identity(panda.shape[0]))\n",
    "plot_pandas(panda_id)\n",
    "print_id()"
   ]
  },
  {
   "cell_type": "markdown",
   "metadata": {
    "deletable": false,
    "editable": false,
    "nbgrader": {
     "grade": false,
     "grade_id": "cell-254e0574e9d6aa35",
     "locked": true,
     "schema_version": 3,
     "solution": false,
     "task": false
    }
   },
   "source": [
    "---"
   ]
  },
  {
   "cell_type": "markdown",
   "metadata": {
    "deletable": false,
    "editable": false,
    "nbgrader": {
     "grade": false,
     "grade_id": "cell-22f7beee19d86f2b",
     "locked": true,
     "schema_version": 3,
     "solution": false,
     "task": false
    }
   },
   "source": [
    "## 2 - The inverse"
   ]
  },
  {
   "cell_type": "markdown",
   "metadata": {
    "deletable": false,
    "editable": false,
    "nbgrader": {
     "grade": false,
     "grade_id": "cell-6fdb5f3768b277eb",
     "locked": true,
     "schema_version": 3,
     "solution": false,
     "task": false
    }
   },
   "source": [
    "Let's use matrix multiplication, the inverse and NumPy, to create a text **encryption algorithm**, and then find a way to decrypt the encripted messages!\n",
    "\n",
    "You'll need to recall concepts from SLU03 (`ord()` function), SLU06 (strings handling) and SLU04 (defining functions)."
   ]
  },
  {
   "cell_type": "markdown",
   "metadata": {
    "deletable": false,
    "editable": false,
    "nbgrader": {
     "grade": false,
     "grade_id": "cell-2a4834cad293d726",
     "locked": true,
     "schema_version": 3,
     "solution": false,
     "task": false
    }
   },
   "source": [
    "### Exercise 2.1\n",
    "\n",
    "**Encryption time! *Can you crack the code?***\n",
    "\n",
    "Let's create a [Hill cipher](https://en.m.wikipedia.org/wiki/Hill_cipher), a cipher from classic cryptography that is based on matrices and their inverses.\n",
    "\n",
    "We'll use a simple scheme to represent each letter in the alphabet by a number, as follows:\n",
    "\n",
    "<img src=\"./media/hill_cipher_scheme.PNG\" width=\"600\"/>\n",
    "\n",
    "Spaces in our message will correspond to the value `26`.\n",
    "\n",
    "**Encryption steps**\n",
    "\n",
    "1. Using the scheme, convert our text message (`message`) into a list of integers; 📌 *we'll start here*\n",
    "2. Place the integers inside a matrix;\n",
    "3. Multiply the matrix by a key matrix, `key_matrix`, which must be invertible;\n",
    "4. Return the encrypted matrix.\n",
    "\n",
    "The encription step is simply about matrix multiplication:\n",
    "\n",
    "$$\\mathbf{A}\\mathbf{K} = \\mathbf{E}$$\n",
    "\n",
    "where:\n",
    "\n",
    "- $\\mathbf{A}$ is an $n\\times 2$ matrix representing the original message letters + spaces;\n",
    "- $\\mathbf{K}$ is a $2\\times 2$ matrix representing the key matrix (which must be invertible);\n",
    "- $\\mathbf{E}$ is an $n\\times 2$ matrix representing the encrypted matrix;"
   ]
  },
  {
   "cell_type": "markdown",
   "metadata": {
    "deletable": false,
    "editable": false,
    "nbgrader": {
     "grade": false,
     "grade_id": "cell-e074add4eb9d46ed",
     "locked": true,
     "schema_version": 3,
     "solution": false,
     "task": false
    }
   },
   "source": [
    "#### 2.1.1) Convert message into list of integers\n",
    "\n",
    "First let's create a function to clean the message. Then we'll create a function to convert the clean message into a list of numbers.\n",
    "\n",
    "**2.1.1-a) Create function `clean_message`that:**\n",
    "\n",
    "- receives as input a string (the secret message);\n",
    "- converts all letters to uppercase;\n",
    "- removes all characters that are not in our defined set of `allowed_characters`;\n",
    "- removes unncessary extra whitespaces.\n",
    "\n",
    "Use what you learned about string handling in SLU06 to help you!"
   ]
  },
  {
   "cell_type": "code",
   "execution_count": null,
   "metadata": {
    "deletable": false,
    "editable": false,
    "nbgrader": {
     "grade": false,
     "grade_id": "cell-e080838a6b305988",
     "locked": true,
     "schema_version": 3,
     "solution": false,
     "task": false
    }
   },
   "outputs": [],
   "source": [
    "# messages to experiment your message with\n",
    "msg01 = \"I heard ---5   kittens are   waiting      for a refill...\"\n",
    "msg02 = \"Just a 2'?()/=/ bunch of ?#=r35242a*ªn32$?=dom characters.\"\n",
    "\n",
    "# outputs expected after running clean_message\n",
    "msg01_clean = \"I HEARD KITTENS ARE WAITING FOR A REFILL\"\n",
    "msg02_clean = \"JUST A BUNCH OF RANDOM CHARACTERS \""
   ]
  },
  {
   "cell_type": "code",
   "execution_count": 10,
   "metadata": {
    "deletable": false,
    "nbgrader": {
     "grade": false,
     "grade_id": "cell-c981c118374add77",
     "locked": false,
     "schema_version": 3,
     "solution": true,
     "task": false
    }
   },
   "outputs": [],
   "source": [
    "allowed_characters = \"ABCDEFGHIJKLMNOPQRSTUVWXYZ \"\n",
    "\n",
    "def clean_message(text_):\n",
    "    \n",
    "    ## convert to uppercase\n",
    "    text_ = text_.to_upper()\n",
    "    \n",
    "    ## remove characters not in allowed_characters using list comprehension\n",
    "    text_list_ = [char for char in text_ if char in allowed_characters]\n",
    "    \n",
    "    ## join the characters back together into one string\n",
    "    text_ = \"\".join(text_list_)\n",
    "    \n",
    "    ## remove extra whitespaces (hint: use .join() and .split())\n",
    "    text_ = \" \".join(text_.split())\n",
    "    \n",
    "    ## we'll add one extra whitespace at the end if the number list length is odd\n",
    "    ## we need this to be able to build an Nx2 matrix on the next steps\n",
    "    if len(text_) % 2 != 0:\n",
    "        text_ += \" \"\n",
    "    \n",
    "    return text_\n",
    "\n",
    "\n",
    "def clean_message(text_):\n",
    "    text_ = text_.upper()\n",
    "    text_list_ = [char for char in text_ if char in allowed_characters]\n",
    "    text_ = \"\".join(text_list_)\n",
    "    text_ = \" \".join(text_.split())\n",
    "    if len(text_) % 2 != 0:\n",
    "        text_ += \" \"\n",
    "    return text_"
   ]
  },
  {
   "cell_type": "code",
   "execution_count": 11,
   "metadata": {
    "deletable": false,
    "editable": false,
    "nbgrader": {
     "grade": true,
     "grade_id": "cell-29a3afa5d6587ec0",
     "locked": true,
     "points": 0,
     "schema_version": 3,
     "solution": false,
     "task": false
    }
   },
   "outputs": [],
   "source": [
    "msg01 = \"I heard ---5   kittens are   waiting      for a refill...\"\n",
    "msg02 = \"Just a 2'?()/=/ bunch of ?#=r35242a*ªn32$?=dom characters.\"\n",
    "\n",
    "assert clean_message(msg01) == \"I HEARD KITTENS ARE WAITING FOR A REFILL\", \"Something's not right just yet.\"\n",
    "assert clean_message(msg02) == \"JUST A BUNCH OF RANDOM CHARACTERS \", \"Something's not right just yet.\""
   ]
  },
  {
   "cell_type": "markdown",
   "metadata": {
    "deletable": false,
    "editable": false,
    "nbgrader": {
     "grade": false,
     "grade_id": "cell-b9cc3f05e9c599de",
     "locked": true,
     "schema_version": 3,
     "solution": false,
     "task": false
    }
   },
   "source": [
    "**2.1.1-b) (ungraded)**\n",
    "\n",
    "Let's now create a function that converts a clean text message to a list of numbers, using our scheme.\n",
    "\n",
    "We'll use `ord()`, which you've learned about in **SLU03**. Our function `get_numlist` will:\n",
    "\n",
    "- receive a clean text message (output from `clean_message`);\n",
    "- for each uppercase letter, we'll convert it to the correct number using `ord(letter) - 65`;\n",
    "- for each whitespace, we'll simply assign it the number `26`;\n",
    "\n",
    "I'll do this one for you, but make sure you understand how the function works."
   ]
  },
  {
   "cell_type": "code",
   "execution_count": 12,
   "metadata": {
    "deletable": false,
    "editable": false,
    "nbgrader": {
     "grade": false,
     "grade_id": "cell-a989410b2b21e63f",
     "locked": true,
     "schema_version": 3,
     "solution": false,
     "task": false
    }
   },
   "outputs": [
    {
     "name": "stdout",
     "output_type": "stream",
     "text": [
      "First five numbers in the message: [8, 26, 11, 14, 21]\n"
     ]
    }
   ],
   "source": [
    "def get_numlist(text_):\n",
    "    \n",
    "    # empty list to save numbers\n",
    "    numlist_ = []\n",
    "    \n",
    "    # iterate through each character in the clean message\n",
    "    for char in text_:\n",
    "        if char == \" \": # append 26, if it is a whitespace\n",
    "            numlist_.append(26)\n",
    "        else: # append 0-25 number to the corresponding to A-Z letter\n",
    "            numlist_.append(ord(char) - 65)\n",
    "    \n",
    "    # return message as list of number\n",
    "    return numlist_\n",
    "\n",
    "# test it!\n",
    "numbers_msg = get_numlist(\"I LOVE LINEAR ALGEBRA\")\n",
    "print(\"First five numbers in the message:\", numbers_msg[:5])"
   ]
  },
  {
   "cell_type": "markdown",
   "metadata": {
    "deletable": false,
    "editable": false,
    "nbgrader": {
     "grade": false,
     "grade_id": "cell-e222ab9fac1cb0f5",
     "locked": true,
     "schema_version": 3,
     "solution": false,
     "task": false
    }
   },
   "source": [
    "By now, you could actually start sending messages to your friends and family using `get_numlist()`, which they could read with `get_text()` below."
   ]
  },
  {
   "cell_type": "markdown",
   "metadata": {
    "deletable": false,
    "editable": false,
    "nbgrader": {
     "grade": false,
     "grade_id": "cell-cbc9ba838f658db1",
     "locked": true,
     "schema_version": 3,
     "solution": false,
     "task": false
    }
   },
   "source": [
    "**Number to letter converter**"
   ]
  },
  {
   "cell_type": "code",
   "execution_count": 13,
   "metadata": {
    "deletable": false,
    "editable": false,
    "nbgrader": {
     "grade": false,
     "grade_id": "cell-5ab8635824fc5b08",
     "locked": true,
     "schema_version": 3,
     "solution": false,
     "task": false
    }
   },
   "outputs": [
    {
     "name": "stdout",
     "output_type": "stream",
     "text": [
      "I LOVE LINEAR ALGEBRA\n"
     ]
    }
   ],
   "source": [
    "# read a number list into its original message\n",
    "def get_text(numlist_):\n",
    "    return \"\".join([chr(i + 65) if i != 26 else \" \" for i in numlist_])\n",
    "\n",
    "# revert back to text message\n",
    "print(get_text(numbers_msg))"
   ]
  },
  {
   "cell_type": "code",
   "execution_count": 14,
   "metadata": {
    "deletable": false,
    "editable": false,
    "nbgrader": {
     "grade": false,
     "grade_id": "cell-aa19bcef0c87f8db",
     "locked": true,
     "schema_version": 3,
     "solution": false,
     "task": false
    }
   },
   "outputs": [],
   "source": [
    "secret_message = [12, 0, 19, 7, 4, 12, 0, 19, 8, 2, 18, 26, 8, 18, 26, 0, 22, 4, 18, 14, 12, 4]"
   ]
  },
  {
   "cell_type": "markdown",
   "metadata": {},
   "source": [
    "**Encryption steps**\n",
    "\n",
    "~1. Using the scheme, convert our text message (`message`) into a list of integers;~ ✔️ `clean_message()`, `get_numlist()`\n",
    "\n",
    "2. Place the integers inside a matrix; 📌\n",
    "3. Multiply the matrix by a key matrix, `key_matrix`, which must be invertible;\n",
    "4. Return the encrypted matrix."
   ]
  },
  {
   "cell_type": "markdown",
   "metadata": {
    "deletable": false,
    "editable": false,
    "nbgrader": {
     "grade": false,
     "grade_id": "cell-0332c1bef0768f4a",
     "locked": true,
     "schema_version": 3,
     "solution": false,
     "task": false
    }
   },
   "source": [
    "#### 2.1.2) Place the integers inside a matrix\n",
    "\n",
    "Let's create `cipher_matrix()`, which organizes our numbers list inside a matrix."
   ]
  },
  {
   "cell_type": "code",
   "execution_count": 27,
   "metadata": {
    "deletable": false,
    "nbgrader": {
     "grade": false,
     "grade_id": "cell-944db9daa15f31b2",
     "locked": false,
     "schema_version": 3,
     "solution": true,
     "task": false
    }
   },
   "outputs": [],
   "source": [
    "## create a function called cipher_matrix which reshapes a list into a 2D array\n",
    "## with number of rows half the length of the list\n",
    "## and number of columns = 2\n",
    "\n",
    "def cipher_matrix(numberlist_):\n",
    "    \n",
    "    ## convert numberlist_ into 1D array\n",
    "    # num_array_ = ...\n",
    "    \n",
    "    ## reshape num_array to shape (len(numberlist_) // 2, 2)\n",
    "    # matrix_array = ...\n",
    "    \n",
    "    return matrix_array\n",
    "\n",
    "\n",
    "# YOUR CODE HERE\n",
    "def cipher_matrix(numberlist_):\n",
    "    \n",
    "    ## convert numberlist_ into 1D array\n",
    "    num_array_ = np.array(numberlist_)\n",
    "    print(num_array_)\n",
    "    \n",
    "    ## reshape num_array to shape (len(numberlist_) // 2, 2)\n",
    "    matrix_array = num_array_.reshape(len(num_array_)//2, 2)\n",
    "    print(matrix_array)\n",
    "    \n",
    "    return matrix_array"
   ]
  },
  {
   "cell_type": "code",
   "execution_count": 28,
   "metadata": {
    "deletable": false,
    "editable": false,
    "nbgrader": {
     "grade": true,
     "grade_id": "cell-4f302cf0d05862c4",
     "locked": true,
     "points": 0,
     "schema_version": 3,
     "solution": false,
     "task": false
    }
   },
   "outputs": [
    {
     "name": "stdout",
     "output_type": "stream",
     "text": [
      "[ 2  7 14  2 14 11  0 19  4 18]\n",
      "[[ 2  7]\n",
      " [14  2]\n",
      " [14 11]\n",
      " [ 0 19]\n",
      " [ 4 18]]\n"
     ]
    }
   ],
   "source": [
    "clean_msg = clean_message(\"chocolates4   %$&/(%$)\")\n",
    "numlist = get_numlist(clean_msg)\n",
    "assert np.array_equal(cipher_matrix(numlist), np.array([[ 2,  7], [14,  2], [14, 11], [ 0, 19], [ 4, 18]])), \"Wrong! :(\""
   ]
  },
  {
   "cell_type": "markdown",
   "metadata": {
    "deletable": false,
    "editable": false,
    "nbgrader": {
     "grade": false,
     "grade_id": "cell-f1e04f4a7d886566",
     "locked": true,
     "schema_version": 3,
     "solution": false,
     "task": false
    }
   },
   "source": [
    "**Encryption steps**\n",
    "\n",
    "~1. Using the scheme, convert our text message (`message`) into a list of integers;~ ✔️ `clean_message()`, `get_numlist()`\n",
    "\n",
    "~2. Place the integers inside a matrix;~ ✔️ `cipher_matrix()`\n",
    "\n",
    "3. Multiply the matrix by a key matrix, `key_matrix`, which must be invertible; 📌\n",
    "4. Return the encrypted matrix."
   ]
  },
  {
   "cell_type": "markdown",
   "metadata": {
    "deletable": false,
    "editable": false,
    "nbgrader": {
     "grade": false,
     "grade_id": "cell-c293832bf8925721",
     "locked": true,
     "schema_version": 3,
     "solution": false,
     "task": false
    }
   },
   "source": [
    "#### 2.1.3) Multiply by a key matrix\n",
    "\n",
    "Use `np.matmul()` to multiply a cipher matrix by a **key matrix**, which is an **invertible matrix**.\n",
    "\n",
    "Create a function called `encrypt_matrix()` that:\n",
    "\n",
    "- receives an $n\\times 2$ cipher matrix and a $2\\times 2$ key matrix (which should be invertible);\n",
    "- checks if the key matrix is invertible (if not, the function returns `None`);\n",
    "- multiplies the cipher matrix of size $n\\times 2$ by an invertible key matrix of size $2\\times 2$;\n",
    "- returns the encrypted matrix."
   ]
  },
  {
   "cell_type": "code",
   "execution_count": 29,
   "metadata": {
    "deletable": false,
    "editable": false,
    "nbgrader": {
     "grade": false,
     "grade_id": "cell-0a75d59bd175a12d",
     "locked": true,
     "schema_version": 3,
     "solution": false,
     "task": false
    }
   },
   "outputs": [
    {
     "name": "stdout",
     "output_type": "stream",
     "text": [
      "key_matrix:\n",
      " [[1 0]\n",
      " [0 2]] \n",
      "\n",
      "inverse(key_matrix):\n",
      " [[1.  0. ]\n",
      " [0.  0.5]]\n"
     ]
    }
   ],
   "source": [
    "# Example of a 2x2 key matrix (invertible)\n",
    "key_matrix = np.array([[1, 0], [0, 2]])\n",
    "print(\"key_matrix:\\n\", key_matrix, \"\\n\")\n",
    "print(\"inverse(key_matrix):\\n\", np.linalg.inv(key_matrix))"
   ]
  },
  {
   "cell_type": "code",
   "execution_count": 46,
   "metadata": {
    "deletable": false,
    "nbgrader": {
     "grade": false,
     "grade_id": "cell-f36b0eb86612d491",
     "locked": false,
     "schema_version": 3,
     "solution": true,
     "task": false
    }
   },
   "outputs": [],
   "source": [
    "## create a function called encrypt_matrix that multiplies a cipher matrix by the key matrix\n",
    "\n",
    "#def encrypt_matrix(cipher_, key_):\n",
    "    \n",
    "    ## write a try except to check if the key_ is invertible - if it's not, the function should return None\n",
    "    # ...\n",
    "    \n",
    "    ## multiply cipher_ by key_ and return the result\n",
    "    # ...\n",
    "    \n",
    "\n",
    "# YOUR CODE HERE\n",
    "def encrypt_matrix(cipher_, key_):\n",
    "    \n",
    "    ## write a try except to check if the key_ is invertible - if it's not, the function should return None\n",
    "    try:\n",
    "        np.linalg.inv(key_)\n",
    "    except:       \n",
    "        return None\n",
    "    ## multiply cipher_ by key_ and return the result\n",
    "    return np.matmul(cipher_, key_)\n",
    "    \n"
   ]
  },
  {
   "cell_type": "code",
   "execution_count": 47,
   "metadata": {
    "deletable": false,
    "editable": false,
    "nbgrader": {
     "grade": true,
     "grade_id": "cell-ab7100a0bee91652",
     "locked": true,
     "points": 0,
     "schema_version": 3,
     "solution": false,
     "task": false
    }
   },
   "outputs": [],
   "source": [
    "key_2020 = np.array([[1, 0], [0, 2]])\n",
    "matrix_2020 = np.array([[ 4, 21], [ 4, 17], [24, 19], [ 7,  8], [13,  6], [26,  8], [18, 26], [ 2,  0], [13,  2], [ 4, 11], [11,  4],[ 3, 26]])\n",
    "secret_2020 = encrypt_matrix(matrix_2020, key_2020)\n",
    "assert secret_2020[10, 1] == 8, \"Something's wrong! :(\""
   ]
  },
  {
   "cell_type": "markdown",
   "metadata": {
    "deletable": false,
    "editable": false,
    "nbgrader": {
     "grade": false,
     "grade_id": "cell-ce374df5c373c84c",
     "locked": true,
     "schema_version": 3,
     "solution": false,
     "task": false
    }
   },
   "source": [
    "**Encryption steps**\n",
    "\n",
    "~1. Using the scheme, convert our text message (`message`) into a list of integers;~ ✔️ `clean_message()`, `get_numlist()`\n",
    "\n",
    "~2. Place the integers inside a matrix (`matrix`);~ ✔️ `cipher_matrix()`\n",
    "\n",
    "~3. Multiply the matrix by a key matrix, `key_matrix`, which must be invertible;~ ✔️ `encrypt_matrix()`\n",
    "\n",
    "4. Return the encrypted matrix. 📌"
   ]
  },
  {
   "cell_type": "markdown",
   "metadata": {
    "deletable": false,
    "editable": false,
    "nbgrader": {
     "grade": false,
     "grade_id": "cell-df82ab5d3946b8a2",
     "locked": true,
     "schema_version": 3,
     "solution": false,
     "task": false
    }
   },
   "source": [
    "**2.1.4) Encryption - all in one function**\n",
    "\n",
    "Let's finally create our encryption function, called `encrypt_message()`, using all the functions you've built!\n",
    "\n",
    "- receives a message string and a key matrix;\n",
    "- cleans the message and converts it to a cipher matrix;\n",
    "- if the key is invertible, returns the **encrypted matrix**.\n",
    "\n",
    "This encrypted matrix can be used by someone with the key matrix to decode the encrypted message."
   ]
  },
  {
   "cell_type": "code",
   "execution_count": 48,
   "metadata": {
    "deletable": false,
    "editable": false,
    "nbgrader": {
     "grade": false,
     "grade_id": "cell-be65ee1403493cc8",
     "locked": true,
     "schema_version": 3,
     "solution": false,
     "task": false
    }
   },
   "outputs": [],
   "source": [
    "def encrypt_message(message_, key_matrix_):\n",
    "    \n",
    "    ## clean message\n",
    "    msg_ = clean_message(message_)\n",
    "    \n",
    "    ## convert message to list of numbers\n",
    "    numlist_ = get_numlist(msg_)\n",
    "    \n",
    "    ## convert list of numbers to cipher matrix\n",
    "    cipher_matrix_ = cipher_matrix(numlist_)\n",
    "    \n",
    "    ## encrypt cipher_matrix_\n",
    "    encrypted_matrix_ = encrypt_matrix(cipher_matrix_, key_matrix_)\n",
    "    \n",
    "    return encrypted_matrix_"
   ]
  },
  {
   "cell_type": "code",
   "execution_count": 49,
   "metadata": {
    "deletable": false,
    "editable": false,
    "nbgrader": {
     "grade": false,
     "grade_id": "cell-9045ca0b35395a37",
     "locked": true,
     "schema_version": 3,
     "solution": false,
     "task": false
    }
   },
   "outputs": [
    {
     "name": "stdout",
     "output_type": "stream",
     "text": [
      "preview 2 encrypted messages:\n",
      "[ 8 26  7  4  0 17  3 26 10  8 19 19  4 13 18 26  0 17  4 26 22  0  8 19\n",
      "  8 13  6 26  5 14 17 26  0 26 17  4  5  8 11 11]\n",
      "[[ 8 26]\n",
      " [ 7  4]\n",
      " [ 0 17]\n",
      " [ 3 26]\n",
      " [10  8]\n",
      " [19 19]\n",
      " [ 4 13]\n",
      " [18 26]\n",
      " [ 0 17]\n",
      " [ 4 26]\n",
      " [22  0]\n",
      " [ 8 19]\n",
      " [ 8 13]\n",
      " [ 6 26]\n",
      " [ 5 14]\n",
      " [17 26]\n",
      " [ 0 26]\n",
      " [17  4]\n",
      " [ 5  8]\n",
      " [11 11]]\n",
      "[[ 8 52]\n",
      " [ 7  8]\n",
      " [ 0 34]\n",
      " [ 3 52]\n",
      " [10 16]]\n",
      "[ 9 20 18 19 26  0 26  1 20 13  2  7 26 14  5 26 17  0 13  3 14 12 26  2\n",
      "  7  0 17  0  2 19  4 17 18 26]\n",
      "[[ 9 20]\n",
      " [18 19]\n",
      " [26  0]\n",
      " [26  1]\n",
      " [20 13]\n",
      " [ 2  7]\n",
      " [26 14]\n",
      " [ 5 26]\n",
      " [17  0]\n",
      " [13  3]\n",
      " [14 12]\n",
      " [26  2]\n",
      " [ 7  0]\n",
      " [17  0]\n",
      " [ 2 19]\n",
      " [ 4 17]\n",
      " [18 26]]\n",
      "[[ 9 40]\n",
      " [18 38]\n",
      " [26  0]\n",
      " [26  2]\n",
      " [20 26]]\n"
     ]
    }
   ],
   "source": [
    "# 2 messages\n",
    "msg01 = \"I heard ---5   kittens are   waiting      for a refill...\"\n",
    "msg02 = \"Just a 2'?()/=/ bunch of ?#=r35242a*ªn32$?=dom characters.\"\n",
    "\n",
    "# the key\n",
    "key_2020 = np.array([[1, 0], [0, 2]])\n",
    "\n",
    "# clean and perform encryption\n",
    "print(\"preview 2 encrypted messages:\")\n",
    "print(encrypt_message(msg01, key_2020)[:5])\n",
    "print(encrypt_message(msg02, key_2020)[:5])"
   ]
  },
  {
   "cell_type": "markdown",
   "metadata": {
    "deletable": false,
    "editable": false,
    "nbgrader": {
     "grade": false,
     "grade_id": "cell-1d6356b0f178e691",
     "locked": true,
     "schema_version": 3,
     "solution": false,
     "task": false
    }
   },
   "source": [
    "### Exercise 2.2\n",
    "\n",
    "**Decryption time!**\n",
    "\n",
    "The person who will decrypt our matrix (and uncover the hidden message) will need to know the key matrix. With that, the only steps they need to perform are:\n",
    "- use the **inverse** of the **key matrix** to undo the multiplication of the original message;\n",
    "- use the scheme to convert the decrypted list of numbers to our original message.\n",
    "\n",
    "To **decrypt** this matrix, we will use linear algebra again, namely the inverse and matrix multiplication properties!\n",
    "\n",
    "We can multiply both sides of the encryption equation we described before by the inverse of the key matrix, $\\mathbf{K}^{-1}$:\n",
    "\n",
    "$$\\mathbf{A}\\mathbf{K}(\\mathbf{K}^{-1}) = \\mathbf{E}(\\mathbf{K}^{-1})$$\n",
    "\n",
    "According to the first property in section 1.2 of the learning notebook, we know that we can write the equation as:\n",
    "\n",
    "$$\\mathbf{A}(\\mathbf{K}\\mathbf{K}^{-1}) = \\mathbf{E}\\mathbf{K}^{-1}$$\n",
    "\n",
    "And if you remember the definition of the inverse, you know we can rewrite this as:\n",
    "\n",
    "$$\\mathbf{A}(\\mathbf{I_2}) = \\mathbf{E}\\mathbf{K}^{-1}$$\n",
    "\n",
    "which basically gives us our original message matrix $\\mathbf{A}$, because the identity  matrix does not change another matrix when multiplied by it:\n",
    "\n",
    "$$\\mathbf{A} = \\mathbf{E}\\mathbf{K}^{-1}$$\n",
    "\n",
    "---\n",
    "\n",
    "Let's do this!\n",
    "\n",
    "Help me out below, by completing the function `decrypt_message()` according to the commented instructions!!"
   ]
  },
  {
   "cell_type": "code",
   "execution_count": 50,
   "metadata": {
    "deletable": false,
    "editable": false,
    "nbgrader": {
     "grade": false,
     "grade_id": "cell-c2be8d299ce9910b",
     "locked": true,
     "schema_version": 3,
     "solution": false,
     "task": false
    }
   },
   "outputs": [],
   "source": [
    "# run this cell first!\n",
    "\n",
    "def get_text(numlist_):\n",
    "    return \"\".join([chr(i + 65) if i != 26 else \" \" for i in numlist_])"
   ]
  },
  {
   "cell_type": "code",
   "execution_count": 63,
   "metadata": {
    "deletable": false,
    "nbgrader": {
     "grade": false,
     "grade_id": "cell-c578136751553955",
     "locked": false,
     "schema_version": 3,
     "solution": true,
     "task": false
    }
   },
   "outputs": [],
   "source": [
    "\n",
    "# YOUR CODE HERE\n",
    "def decrypt_message(encrypted_matrix_, key_matrix_):\n",
    "    \n",
    "    ## determine the inverse of the key_matrix_\n",
    "    key_matrix_inv_ = np.linalg.inv(key_matrix_)\n",
    "    \n",
    "    ## determine the message matrix (matrix A in the cell above)\n",
    "    original_matrix_ = np.matmul(encrypted_matrix_, key_matrix_inv_)\n",
    "    \n",
    "    ## convert all elements in array to integers (check numpy documentation!)\n",
    "    original_matrix_ = original_matrix_.astype(int)\n",
    "    \n",
    "    ## flatten original_matrix (check numpy documentation!!)\n",
    "    original_matrix = original_matrix_.flatten()\n",
    "    \n",
    "    ## use function get_text() to convert the matrix into a message\n",
    "    original_message_ = get_text(original_matrix)\n",
    "    \n",
    "    return original_message_\n",
    "    "
   ]
  },
  {
   "cell_type": "code",
   "execution_count": 64,
   "metadata": {
    "deletable": false,
    "editable": false,
    "nbgrader": {
     "grade": true,
     "grade_id": "cell-7b86a9491fd441c6",
     "locked": true,
     "points": 0,
     "schema_version": 3,
     "solution": false,
     "task": false
    }
   },
   "outputs": [
    {
     "name": "stdout",
     "output_type": "stream",
     "text": [
      "Awesome!\n",
      "\n",
      "nothing is cooler than mathematics \n",
      "\n",
      "why do plants hate maths\n",
      "because it gives them square roots\n"
     ]
    }
   ],
   "source": [
    "key_matrix = np.array([[1, 0], [0, 2]])\n",
    "\n",
    "# code matrices\n",
    "code_msg_01 = np.genfromtxt(\"secret_message_1\").astype(int)\n",
    "code_msg_02 = np.genfromtxt(\"secret_message_2\").astype(int)\n",
    "code_msg_03 = np.genfromtxt(\"secret_message_3\").astype(int)\n",
    "\n",
    "# uncrack the messages using decrypt_message\n",
    "decoded_msg_01 = decrypt_message(code_msg_01, key_matrix).lower()\n",
    "decoded_msg_02 = decrypt_message(code_msg_02, key_matrix).lower()\n",
    "decoded_msg_03 = decrypt_message(code_msg_03, key_matrix).lower()\n",
    "\n",
    "# check your function\n",
    "\n",
    "\n",
    "# print decoded messages in lower case, because we like to be polite\n",
    "assert _hash(decoded_msg_01) == 'a745d3b5c3' and _hash(decoded_msg_02) == 'f0bc6bd35c' \\\n",
    "    and _hash(decoded_msg_03) == '834005ad63', \"Wrong! Read the instructions and the commented steps carefully.\"\n",
    "\n",
    "# decoded messages\n",
    "print(\"Awesome!\\n\")\n",
    "print(decoded_msg_01, \"\\n\")\n",
    "print(decoded_msg_02)\n",
    "print(decoded_msg_03)"
   ]
  },
  {
   "cell_type": "markdown",
   "metadata": {
    "deletable": false,
    "editable": false,
    "nbgrader": {
     "grade": false,
     "grade_id": "cell-b801a16431ca9f4a",
     "locked": true,
     "schema_version": 3,
     "solution": false,
     "task": false
    }
   },
   "source": [
    "By the way, this is what would happen if you didn't know the key and throwed a random invertible key matrix into the decryption algorithm:"
   ]
  },
  {
   "cell_type": "code",
   "execution_count": 65,
   "metadata": {
    "deletable": false,
    "editable": false,
    "nbgrader": {
     "grade": false,
     "grade_id": "cell-ebf4bb38c29e8112",
     "locked": true,
     "schema_version": 3,
     "solution": false,
     "task": false
    }
   },
   "outputs": [
    {
     "name": "stdout",
     "output_type": "stream",
     "text": [
      "@F4CCFOKGH)A?F:BDK4CKF1EPH>B5A5DMH\n"
     ]
    }
   ],
   "source": [
    "# this is what would happen if you used a WRONG KEY\n",
    "\n",
    "# example for code_msg_01\n",
    "print(decrypt_message(code_msg_01, np.array([[-1, 0], [2, 5]])))"
   ]
  },
  {
   "cell_type": "code",
   "execution_count": 66,
   "metadata": {
    "deletable": false,
    "editable": false,
    "nbgrader": {
     "grade": false,
     "grade_id": "cell-22e4b5e04ba9343e",
     "locked": true,
     "schema_version": 3,
     "solution": false,
     "task": false
    }
   },
   "outputs": [
    {
     "data": {
      "text/plain": [
       "'EVERYTHING IS CANCELLED '"
      ]
     },
     "execution_count": 66,
     "metadata": {},
     "output_type": "execute_result"
    }
   ],
   "source": [
    "# What is happening in 2020?...\n",
    "key_2020 = np.array([[1, 0], [0, 2]])\n",
    "matrix_2020 = np.array([[ 4, 21], [ 4, 17], [24, 19], [ 7,  8], [13,  6], [26,  8], [18, 26], [ 2,  0], [13,  2], [ 4, 11], [11,  4],[ 3, 26]])\n",
    "decrypt_message(encrypt_matrix(matrix_2020, key_2020), key_2020)"
   ]
  },
  {
   "cell_type": "markdown",
   "metadata": {
    "deletable": false,
    "editable": false,
    "nbgrader": {
     "grade": false,
     "grade_id": "cell-503121774242f736",
     "locked": true,
     "schema_version": 3,
     "solution": false,
     "task": false
    }
   },
   "source": [
    "### Exercise 2.3 (ungraded)\n",
    "\n",
    "Try to decrypt the following matrix! **When you do, go leave the message on Slack!!**"
   ]
  },
  {
   "cell_type": "code",
   "execution_count": 67,
   "metadata": {
    "deletable": false,
    "editable": false,
    "nbgrader": {
     "grade": false,
     "grade_id": "cell-f9431210c0602524",
     "locked": true,
     "schema_version": 3,
     "solution": false,
     "task": false
    }
   },
   "outputs": [
    {
     "data": {
      "text/plain": [
       "'EVERYONE AT THE LDSSA PREP COURSE IS AWESOME'"
      ]
     },
     "execution_count": 67,
     "metadata": {},
     "output_type": "execute_result"
    }
   ],
   "source": [
    "# Try to find the meaning behind the matrix below\n",
    "\n",
    "hidden_message = np.array([[42, 25], [34, 21], [28, 38], [ 8, 17], [ 0, 26], [52, 45], [14, 26], [52, 30],\n",
    "                           [ 6, 14], [36, 36], [52, 26], [34, 32], [30, 19], [ 4, 28], [40, 34], [36, 35],\n",
    "                           [52, 30], [36, 26], [ 0, 26], [ 8, 26], [28, 32], [ 8, 16]])\n",
    "\n",
    "key_matrix = np.array([[0, 1], [2, 1]])  # here's the key!\n",
    "\n",
    "decrypt_message(hidden_message, key_matrix)"
   ]
  },
  {
   "cell_type": "markdown",
   "metadata": {
    "deletable": false,
    "editable": false,
    "nbgrader": {
     "grade": false,
     "grade_id": "cell-dc1bff7e9d2576bb",
     "locked": true,
     "schema_version": 3,
     "solution": false,
     "task": false
    }
   },
   "source": [
    "---"
   ]
  },
  {
   "cell_type": "markdown",
   "metadata": {
    "deletable": false,
    "editable": false,
    "nbgrader": {
     "grade": false,
     "grade_id": "cell-5b643b1b1eab4828",
     "locked": true,
     "schema_version": 3,
     "solution": false,
     "task": false
    }
   },
   "source": [
    "<center>Ooops! Our encryption algorithm was too simple... Our secret messages were found!!</center>\n",
    "\n",
    "<img src=\"./media/mr_robot.gif\" width=\"420\">"
   ]
  },
  {
   "cell_type": "markdown",
   "metadata": {
    "deletable": false,
    "editable": false,
    "nbgrader": {
     "grade": false,
     "grade_id": "cell-94f1c556ed814e11",
     "locked": true,
     "schema_version": 3,
     "solution": false,
     "task": false
    }
   },
   "source": [
    "---"
   ]
  },
  {
   "cell_type": "markdown",
   "metadata": {
    "deletable": false,
    "editable": false,
    "nbgrader": {
     "grade": false,
     "grade_id": "cell-b9b47a5d2605326d",
     "locked": true,
     "schema_version": 3,
     "solution": false,
     "task": false
    }
   },
   "source": [
    "## 3 - Additional NumPy methods"
   ]
  },
  {
   "cell_type": "markdown",
   "metadata": {
    "deletable": false,
    "editable": false,
    "nbgrader": {
     "grade": false,
     "grade_id": "cell-32a1789b60daafa8",
     "locked": true,
     "schema_version": 3,
     "solution": false,
     "task": false
    }
   },
   "source": [
    "**Feature scaling**\n",
    "\n",
    "Suppose you're a data scientist who wants to change the world (for better!) with data. You've been noticing there seems to be a lot of inequality in the pricing of medical insurance, and you want to prove it not with claims, but mathematics. Specifically, you want to understand whether some features such as a person's BMI, age, number of dependents or smoking habits affect the price charged by insurance companies.\n",
    "\n",
    "You've decided that [you'll need to do some feature scaling](https://medium.com/greyatom/why-how-and-when-to-scale-your-features-4b30ab09db5e) first, and you opt for min-max scaling, to bring your features to a same range of values, $0$ to $1$.\n",
    "\n",
    "$$\\mathbf{x}_{scaled} = \\frac{\\mathbf{x} - \\min(\\mathbf{x})} {\\max(\\mathbf{x}) - \\min(\\mathbf{x})}$$\n",
    "\n",
    "Let's do this for the BMI feature, using the NumPy methods you learned!\n",
    "\n",
    "Although you know how to read files (remember SLU06!!), here we'll be a bit lazy and import our dataset using NumPy's [genfromtext](https://numpy.org/doc/1.18/user/basics.io.genfromtxt.html) function.\n",
    "\n",
    "<img src=\"./media/insurance.jpg\" width=\"520\"/>\n",
    "\n",
    "---\n",
    "[Dataset source](https://www.kaggle.com/mirichoi0218/insurance/data)."
   ]
  },
  {
   "cell_type": "markdown",
   "metadata": {
    "deletable": false,
    "editable": false,
    "nbgrader": {
     "grade": false,
     "grade_id": "cell-776f0f539d02e248",
     "locked": true,
     "schema_version": 3,
     "solution": false,
     "task": false
    }
   },
   "source": [
    "### Exercise 3.1\n",
    "\n",
    "Using the NumPy methods you learned, transform `bmi` to `bmi_scaled` using min-max scaling."
   ]
  },
  {
   "cell_type": "code",
   "execution_count": 68,
   "metadata": {
    "deletable": false,
    "editable": false,
    "nbgrader": {
     "grade": false,
     "grade_id": "cell-4613a01278959dc6",
     "locked": true,
     "schema_version": 3,
     "solution": false,
     "task": false
    }
   },
   "outputs": [
    {
     "name": "stdout",
     "output_type": "stream",
     "text": [
      "bmi length: 1338\n",
      "bmi.ndim: 1\n",
      "bmi.shape: (1338,)\n",
      "preview first 5 BMI values: [27.9   33.77  33.    22.705 28.88 ]\n",
      "check type: float64\n"
     ]
    }
   ],
   "source": [
    "# read BMI column from our dataset into a numpy array\n",
    "bmi = np.genfromtxt(os.path.join('data', 'insurance.csv'), skip_header=1, delimiter=',', usecols=2)\n",
    "\n",
    "# check the length, shape and number of dimensions of our array\n",
    "print(\"bmi length:\", len(bmi))\n",
    "print(\"bmi.ndim:\", bmi.ndim)  # 1D array -> vector\n",
    "print(\"bmi.shape:\", bmi.shape)  # because our array is 1D, this equals the length of the array\n",
    "print(\"preview first 5 BMI values:\", bmi[:5])\n",
    "print(\"check type:\", bmi.dtype)  # should be float"
   ]
  },
  {
   "cell_type": "code",
   "execution_count": 69,
   "metadata": {
    "deletable": false,
    "nbgrader": {
     "grade": false,
     "grade_id": "cell-bc2c63a33c997e8e",
     "locked": false,
     "schema_version": 3,
     "solution": true,
     "task": false
    }
   },
   "outputs": [],
   "source": [
    "# YOUR CODE HERE\n",
    "# Using NumPy methods, assign the min-max scaled BMI feature to bmi_scaled\n",
    "\n",
    "# determine the minimum bmi in our dataset\n",
    "min_bmi = bmi.min()\n",
    "\n",
    "# determine the maximum bmi in our dataset\n",
    "max_bmi = bmi.max()\n",
    "\n",
    "# determine bmi_scaled using min-max scaling\n",
    "bmi_scaled = (bmi - min_bmi)/(max_bmi-min_bmi)"
   ]
  },
  {
   "cell_type": "code",
   "execution_count": 70,
   "metadata": {
    "deletable": false,
    "editable": false,
    "nbgrader": {
     "grade": true,
     "grade_id": "cell-1bafedb42aa75455",
     "locked": true,
     "points": 0,
     "schema_version": 3,
     "solution": false,
     "task": false
    }
   },
   "outputs": [],
   "source": [
    "assert len(bmi_scaled) == len(bmi), \"bmi and bmi_scaled should have the same length!\"\n",
    "assert not isclose(bmi_scaled[10], -15.766888763410503, abs_tol=1e-3), \"Did you forget any parentheses? Remember precedence from SLU03!\"\n",
    "assert not isclose(bmi_scaled[10], 9.959604743083002, abs_tol=1e-3), \"Did you forget any parentheses? Remember precedence from SLU03!\"\n",
    "assert not isclose(bmi_scaled[10], 25.790621468926552, abs_tol=1e-3), \"Did you forget any parentheses? Remember precedence from SLU03!\"\n",
    "assert isclose(bmi_scaled[10], 0.2760290556900726, abs_tol=1e-3), \"Check if you applied the formula correctly!\""
   ]
  },
  {
   "cell_type": "markdown",
   "metadata": {
    "deletable": false,
    "editable": false,
    "nbgrader": {
     "grade": false,
     "grade_id": "cell-a20f73cc2bd40b9e",
     "locked": true,
     "schema_version": 3,
     "solution": false,
     "task": false
    }
   },
   "source": [
    "### Exercise 3.2\n",
    "\n",
    "*Just a sanity check...*\n",
    "\n",
    "Check the minimum and maximum values of `bmi_scaled` using NumPy methods and assign them to `new_min` and `new_max`, respectively."
   ]
  },
  {
   "cell_type": "code",
   "execution_count": 71,
   "metadata": {
    "deletable": false,
    "nbgrader": {
     "grade": false,
     "grade_id": "cell-c6e466d5b7a6df6f",
     "locked": false,
     "schema_version": 3,
     "solution": true,
     "task": false
    }
   },
   "outputs": [],
   "source": [
    "# YOUR CODE HERE\n",
    "# Find the minimum of bmi_scaled\n",
    "new_min = bmi_scaled.min()\n",
    "\n",
    "# Find the maximum of bmi_scaled\n",
    "new_max = bmi_scaled.max()\n"
   ]
  },
  {
   "cell_type": "code",
   "execution_count": 72,
   "metadata": {
    "deletable": false,
    "editable": false,
    "nbgrader": {
     "grade": true,
     "grade_id": "cell-1f13f3356014eb73",
     "locked": true,
     "points": 0,
     "schema_version": 3,
     "solution": false,
     "task": false
    }
   },
   "outputs": [],
   "source": [
    "assert isclose(new_min, 0.0, abs_tol=0.1), \"After min-max scaling, the minimum value should be 0 or very close to it!\"\n",
    "assert isclose(new_max, 1.0, abs_tol=0.1), \"After min-max scaling, the maximum value should be 1 or very close to it!\""
   ]
  },
  {
   "cell_type": "markdown",
   "metadata": {
    "deletable": false,
    "editable": false,
    "nbgrader": {
     "grade": false,
     "grade_id": "cell-519e8f54840ae548",
     "locked": true,
     "schema_version": 3,
     "solution": false,
     "task": false
    }
   },
   "source": [
    "**Note:**\n",
    "\n",
    "We could also have written our formula as a combination of linear vectors, as follows:\n",
    "\n",
    "$$\n",
    "\\mathbf{x} =\n",
    "\\frac{1} {\\max(\\mathbf{x}) - \\min(\\mathbf{x})}\n",
    "\\begin{bmatrix}\n",
    "    x_1 - \\min(\\mathbf{x})\\\\\n",
    "    x_2 - \\min(\\mathbf{x})\\\\\n",
    "    \\vdots\\\\\n",
    "    x_n - \\min(\\mathbf{x})\n",
    "    \\end{bmatrix} = \n",
    "\\frac{1} {\\max(\\mathbf{x}) - \\min(\\mathbf{x})}\n",
    "\\begin{bmatrix}\n",
    "    x_1\\\\\n",
    "    x_2\\\\\n",
    "    \\vdots\\\\\n",
    "    x_n\n",
    "    \\end{bmatrix} -\n",
    "\\frac{1} {\\max(\\mathbf{x}) - \\min(\\mathbf{x})}\n",
    "\\begin{bmatrix}\n",
    "    \\min(\\mathbf{x})\\\\\n",
    "    \\min(\\mathbf{x})\\\\\n",
    "    \\vdots\\\\\n",
    "    \\min(\\mathbf{x})\n",
    "    \\end{bmatrix}\n",
    "$$"
   ]
  },
  {
   "cell_type": "markdown",
   "metadata": {
    "deletable": false,
    "editable": false,
    "nbgrader": {
     "grade": false,
     "grade_id": "cell-54418d859f32ce74",
     "locked": true,
     "schema_version": 3,
     "solution": false,
     "task": false
    }
   },
   "source": [
    "---"
   ]
  },
  {
   "cell_type": "markdown",
   "metadata": {
    "deletable": false,
    "editable": false,
    "nbgrader": {
     "grade": false,
     "grade_id": "cell-1981a34344b42bbb",
     "locked": true,
     "schema_version": 3,
     "solution": false,
     "task": false
    }
   },
   "source": [
    "<img src='./media/none.jpg' width='400'>"
   ]
  },
  {
   "cell_type": "markdown",
   "metadata": {
    "deletable": false,
    "editable": false,
    "nbgrader": {
     "grade": false,
     "grade_id": "cell-23854c6a4ecc29a2",
     "locked": true,
     "schema_version": 3,
     "solution": false,
     "task": false
    }
   },
   "source": [
    "---"
   ]
  },
  {
   "cell_type": "markdown",
   "metadata": {
    "deletable": false,
    "editable": false,
    "nbgrader": {
     "grade": false,
     "grade_id": "cell-e24a09e885afdd74",
     "locked": true,
     "schema_version": 3,
     "solution": false,
     "task": false
    }
   },
   "source": [
    "<center>That's it, you made it to the end!! Congratulations!!</center>\n",
    "\n",
    "<img src=\"./media/the_end.gif\" width=\"600\">"
   ]
  },
  {
   "cell_type": "markdown",
   "metadata": {},
   "source": [
    "---"
   ]
  }
 ],
 "metadata": {
  "kernelspec": {
   "display_name": "WorkSpace",
   "language": "python",
   "name": "python3"
  },
  "language_info": {
   "codemirror_mode": {
    "name": "ipython",
    "version": 3
   },
   "file_extension": ".py",
   "mimetype": "text/x-python",
   "name": "python",
   "nbconvert_exporter": "python",
   "pygments_lexer": "ipython3",
   "version": "3.10.15"
  }
 },
 "nbformat": 4,
 "nbformat_minor": 2
}
